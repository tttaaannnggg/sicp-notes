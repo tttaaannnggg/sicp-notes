{
 "cells": [
  {
   "cell_type": "markdown",
   "metadata": {},
   "source": [
    "## 1.36\n",
    "\n",
    "> Modify `fixed-point` so that it prints the sequence of approximations it generates using `newline` and `display`"
   ]
  },
  {
   "cell_type": "code",
   "execution_count": 4,
   "metadata": {},
   "outputs": [
    {
     "data": {
      "text/plain": [
       "#!unspecific"
      ]
     },
     "execution_count": 4,
     "metadata": {},
     "output_type": "execute_result"
    }
   ],
   "source": [
    "(define (damp-fixed-point f first-guess)\n",
    "  (let (tolerance 0.000001))\n",
    "  (define (close-enough? v1 v2)\n",
    "    (< (abs (- v1 v2)) tolerance))\n",
    "  (define (try guess)\n",
    "    (let ((next (f guess)))\n",
    "    (if (close-enough? guess next)\n",
    "        next\n",
    "        (try (/ (+ next guess) 2))))) \n",
    "  (try first-guess))\n",
    "\n",
    "(define (find-x x)\n",
    "  (/ (log 1000)\n",
    "     (log x)))"
   ]
  }
 ],
 "metadata": {
  "kernelspec": {
   "display_name": "MIT Scheme",
   "language": "scheme",
   "name": "mit-scheme"
  },
  "language_info": {
   "codemirror_mode": "scheme",
   "file_extension": ".scm",
   "mimetype": "application/x-scheme",
   "name": "MIT Scheme",
   "pygments_lexer": "scheme",
   "version": "9.2.1"
  }
 },
 "nbformat": 4,
 "nbformat_minor": 2
}
