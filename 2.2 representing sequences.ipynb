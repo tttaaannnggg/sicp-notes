{
 "cells": [
  {
   "cell_type": "code",
   "execution_count": 5,
   "metadata": {},
   "outputs": [
    {
     "data": {
      "text/plain": [
       "(6)"
      ]
     },
     "execution_count": 5,
     "metadata": {},
     "output_type": "execute_result"
    }
   ],
   "source": [
    "(define (last-pair given-list)\n",
    "  (if (null? (cdr given-list)) given-list\n",
    "      (last-pair (cdr given-list))))\n",
    "\n",
    "(last-pair (list 1 2 3 4 5 6))"
   ]
  },
  {
   "cell_type": "code",
   "execution_count": 37,
   "metadata": {},
   "outputs": [
    {
     "data": {
      "text/plain": [
       "(5 4 3 2 1)"
      ]
     },
     "execution_count": 37,
     "metadata": {},
     "output_type": "execute_result"
    }
   ],
   "source": [
    "(define (reverse given-list)\n",
    "  (define (iter given-list final-list)\n",
    "    (if (null? given-list)\n",
    "        final-list\n",
    "        (iter (cdr given-list) \n",
    "              (cons (car given-list) final-list))))\n",
    "  (iter given-list '()))\n",
    "\n",
    "(reverse (list 1 2 3 4 5))"
   ]
  },
  {
   "cell_type": "code",
   "execution_count": null,
   "metadata": {
    "collapsed": true
   },
   "outputs": [],
   "source": []
  }
 ],
 "metadata": {
  "kernelspec": {
   "display_name": "MIT Scheme",
   "language": "scheme",
   "name": "mit-scheme"
  },
  "language_info": {
   "codemirror_mode": "scheme",
   "file_extension": ".scm",
   "mimetype": "application/x-scheme",
   "name": "MIT Scheme",
   "pygments_lexer": "scheme",
   "version": "9.2.1"
  }
 },
 "nbformat": 4,
 "nbformat_minor": 2
}
