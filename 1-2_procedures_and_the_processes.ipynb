{
 "cells": [
  {
   "cell_type": "markdown",
   "metadata": {},
   "source": [
    "## 1.9\n",
    "Each of these two procedures defines a method fro adding two numbers. show how they evaluate with 4 and 5. Are they iterative or recursive?\n",
    "\n",
    "```scheme\n",
    "(define (+ a b)\n",
    "    (if (= a 0)\n",
    "        b\n",
    "        (inc (+ (dec a) b))))\n",
    "\n",
    "```\n",
    "\n",
    "results:\n",
    "```scheme\n",
    "(+ 4 5)\n",
    "(+ 1 (+ 3 5))\n",
    "(+ 1 (+ 1 (+ 1 (2 5))))\n",
    "(+ 1 (+ 1 (+ 1 (+ 1 5))))\n",
    "(+ 1 (+ 1 (+ 1 (+ 1 (+ 0 5)))))\n",
    "(+ 1 (+ 1 (+ 1 (+ 1 5))))\n",
    "(+ 1 (+ 1 (+ 1 6)))\n",
    "(+ 1 (+ 1 7))\n",
    "(+ 1 8)\n",
    "9\n",
    "```\n",
    "\n",
    "obviously recursive. the `inc` has to stay on the stack until `(+ (dec a) b)` evaluates (which is recursive, since it's defined in terms of the `+`)\n",
    "\n",
    "```scheme\n",
    "(define (+ a b)\n",
    "    (if (= a 0)\n",
    "        b\n",
    "        (+ (dec a) (inc b))))\n",
    "```\n",
    "results:\n",
    "```scheme\n",
    "(+ 4 5)\n",
    "(+ (- 1 4) (+ 1 5))\n",
    "(+ 3 6)\n",
    "(+ (- 1 3) (+ 1 6))\n",
    "(+ 2 7)\n",
    "(+ (- 1 2) (+ 1 7))\n",
    "(+ 1 8)\n",
    "(+ (- 1 1) (+ 1 8))\n",
    "(+ 0 9)\n",
    "9\n",
    "done\n",
    "```\n",
    "\n",
    "iterative- before we enter the recursive call to `+`, we have to evaluate `(dec a)` and `(inc b)` in the current stack frame"
   ]
  },
  {
   "cell_type": "markdown",
   "metadata": {},
   "source": [
    "## 1.10\n",
    "\n",
    "this computes Ackermann's function (wtf is Ackermann's function?)\n",
    "\n",
    "```scheme\n",
    "(define (A x y)\n",
    "    (cond ((= y 0) 0)\n",
    "        ((= x 0) (* 2 y))\n",
    "        ((= y 1) 2)\n",
    "        (else (A (- x 1)\n",
    "                 (A x (- y 1))))))\n",
    "```\n",
    "evaulate the following:\n",
    "\n",
    "```scheme\n",
    "(A 1 10)\n",
    "(A 2 4)\n",
    "(A 3 3)\n",
    "```\n",
    "\n",
    "1.\n",
    "```scheme\n",
    "(A 1 10)\n",
    "(A 0 (A 1 9))\n",
    "(A 0 (A 0 (A 1 8))\n",
    "(A 0 (A 0 (A 0 (A 1 7)))\n",
    "(A 0 (A 0 (A 0 (A 1 (A 1 6))))\n",
    "...\n",
    "(A 0 (A 0 (A 0 (A 0 (A 0 A(0 (A 0 (A 0 (A 0 (A 0 1)))))))))\n",
    "```\n",
    "I think it's just 2^9?  "
   ]
  },
  {
   "cell_type": "code",
   "execution_count": 8,
   "metadata": {},
   "outputs": [
    {
     "data": {
      "text/plain": [
       "1024"
      ]
     },
     "execution_count": 8,
     "metadata": {},
     "output_type": "execute_result"
    }
   ],
   "source": [
    "(define (pow x y)\n",
    "        (if (= y 0) 1 (* x (pow x (- y 1)))))\n",
    "\n",
    "(pow 2 10)"
   ]
  },
  {
   "cell_type": "markdown",
   "metadata": {},
   "source": [
    "(guess it's 2^10)\n",
    "\n",
    "2.\n",
    "```scheme\n",
    "(A 2 4)\n",
    "(A 1 (A 2 3))\n",
    "(A 1 (A 1 (A 2 2)))\n",
    "(A 1 (A 1 (A 1 (A 2 1))))\n",
    "(A 1 (A 1 (A 1 2)))\n",
    "(A 1 (A 1 (A 0 (A 1 1)))\n",
    "(A 1 (A 1 (A 0 2)))\n",
    "(A 1 (A 1 4))\n",
    "(A 1 (A 0 (A 1 3)))\n",
    "(A 1 (A 0 (A 0 (A 1 2))))\n",
    "(A 1 (A 0 (A 0 (A 0 (A 1 1))))))\n",
    "(A 1 (A 0 (A 0 (A 0 2)))))\n",
    "(A 1 (A 0 (A 0 4))))\n",
    "(A 1 (A 0 8)))\n",
    "(A 1 16))\n",
    "2^16\n",
    "65536\n",
    "```\n",
    "(A 0 n) = 2n  \n",
    "(A 1 n) = 2^n  \n",
    "(A 2 n) = ??? 2^2^2^2 n times?\n",
    "\n",
    "3.\n",
    "```scheme\n",
    "(A 3 3)\n",
    "(A 2 (A 3 2)\n",
    "(A 2 (A 2 (A 3 1)))\n",
    "(A 2 (A 2 2)\n",
    "(A 2 (A 1 (A 2 1)))\n",
    "```"
   ]
  },
  {
   "cell_type": "markdown",
   "metadata": {},
   "source": [
    "## 1.11\n",
    "`f(x)` is defined as follows:  \n",
    "if `n < 3`, `f(n) = n`  \n",
    "otherwise `f(n) = f(n-1) + 2*f(n-2) + 3*f(n-3)`\n",
    "\n",
    "define a recursive function that does this and an iterative one that does the same"
   ]
  },
  {
   "cell_type": "code",
   "execution_count": 6,
   "metadata": {},
   "outputs": [
    {
     "data": {
      "text/plain": [
       "25"
      ]
     },
     "execution_count": 6,
     "metadata": {},
     "output_type": "execute_result"
    }
   ],
   "source": [
    "(define (fn n)\n",
    "  (if (< n 3) n\n",
    "      (+ (fn (- n 1)) (* 2 (fn (- n 2))) (* 3 (fn (- n 3))))))\n",
    "\n",
    "(fn 5)"
   ]
  },
  {
   "cell_type": "markdown",
   "metadata": {},
   "source": [
    "In order to do the iterative version of this, we're basically tail-calling everything. So, what do we need to tail call?\n",
    "\n",
    "In every stack frame, there are three places that we're opening new stack frames. those are as follows:\n",
    "* `(fn (- n 1))`\n",
    "* `(fn (- n 2))`\n",
    "* `(fn (- n 3))`\n",
    "\n",
    "These are 3 things that we want to compute in our current stack frame instead of letting the next one handle it. How do we do this?\n",
    "\n",
    "in order to compute `fn(n)`, we have to compute `fn(n-1)` and so on, all the way down to `fn(n)` where `n < 3`, which is our base case.\n",
    "\n",
    "Let's start looking at it from there.\n",
    "\n",
    "```scheme\n",
    "(fn 0) = 0\n",
    "(fn 1) = 1\n",
    "(fn 2) = 2\n",
    "(fn 3) = (+ (fn 2) (* 2 (fn 1)) (* 3 (fn 0)))\n",
    "```\n",
    "\n",
    "we already have `(fn 2)`, `(fn 1)`, and `(fn 0)`, so we can sub them in\n",
    "\n",
    "```scheme\n",
    "(fn 3) = (+ 2 (* 2 1) (* 3 0))\n",
    "(fn 3) = (+ 2 2 0)\n",
    "(fn 3) = 4\n",
    "```\n",
    "\n",
    "and we can keep going\n",
    "```scheme\n",
    "(fn 4) = (+ (fn 3) (* 2 (fn 2)) (* 3 (fn 1)))\n",
    "         (+ 4 (* 2 2) (* 3 1))\n",
    "         (+ 4 4 3)\n",
    "         11\n",
    "```\n",
    "eventually we'll hit `(fn n)`\n",
    "\n",
    "Instead of using stack frames to calculate state, let's create variables. we'll have `a, b, c`\n",
    "\n",
    "```scheme\n",
    "(define (iterate a b c)\n",
    "        ())\n",
    "```\n",
    "\n",
    "let's not worry about how many times to do it yet, or what the base case is. how do we describe behavior in the middle of the loop? Let's imagine that `a b c` correspond to `fn(n-1), fn(n-2), fn(n-3)` respectively. we'll take it as a given that we'll be able to get those values.\n",
    "\n",
    "What happens in the next iteration?\n",
    "\n",
    "Well, the value of `f(n)` at the current `n` becomes the value of `f(n-1)` if we're moving \"up\" a level. i.e. `f(4)` up to `f(5)`, naturally `f(4)` is now the `f(n-1)` in the context of `f(5)`. Same thing happens to `f(n-1)`, which becomes `f(n-2)` when our `n` increases by `1`. everything \"shifts\" over. we don't use `f(n-3)` at all, so `c` simply ceases to exist.\n",
    "\n",
    "```scheme\n",
    "(define (iterate a b c)\n",
    "        (iterate _ a b))\n",
    "```\n",
    "\n",
    "so, `a` becomes `b`, `b` becomes `c`. What's our new `a` then? if `a` is `f(n-1)`, we need to find `f(n)` at our current `n` to shift \"right\". Well, the initial function gives it to us. `f(n-1) + 2*f(n-2) + 3*f(n-3)`. Since we're using `a b c` as stand-ins for `f(n-1), f(n-2), f(n-3)`, we can simply substitute the variables for the function invocations. we get `a + 2*b + 3*c`. Let's plug that in here:\n",
    "\n",
    "```scheme\n",
    "(define (iterate a b c)\n",
    "        (iterate (+ a (* 2 b) (* 3 c)) a b))\n",
    "```\n",
    "\n",
    "nice. Now let's think about where to start and stop. we can't start at the end, the way that the recursive solution does. the recursive function piles on stack frames until we hit our base case of `n < 3`. Instead we have to pile \"up\" from our base case up to `n`. we know that `f(0) = 0`, `f(1) = 1`, and `f(2) = 2`, so let's take that as a starting point.\n",
    "\n",
    "```scheme\n",
    "(define (iterate a b c)\n",
    "        (iterate (+ a (* 2 b) (* 3 c)) a b)))\n",
    "        \n",
    "(iterate 2 1 0)\n",
    "```\n",
    "\n",
    "calling `iterate` with `2 1 0` will start at `f(3)`, since we're providing it values equivalent to `f(2)`, `f(1)`, and `f(0)`. it will compute `f(3)`, then `f(4)`, then `f(5)` endlessly. Let's start at `n`, and count down until `n < 3`\n",
    "\n",
    "```scheme\n",
    "(define (iterate a b c n)\n",
    "        (if (< n 3) a\n",
    "        (iterate (+ a (* 2 b) (* 3 c)) a b (- n 1))))\n",
    "        \n",
    "(iterate 2 1 0 5)\n",
    "```\n",
    "here's a test run:"
   ]
  },
  {
   "cell_type": "code",
   "execution_count": 42,
   "metadata": {},
   "outputs": [
    {
     "data": {
      "text/plain": [
       "25"
      ]
     },
     "execution_count": 42,
     "metadata": {},
     "output_type": "execute_result"
    }
   ],
   "source": [
    "(define (iterate a b c n)\n",
    "        (if (< n 3) a\n",
    "        (iterate (+ a (* 2 b) (* 3 c)) a b (- n 1))))\n",
    "        \n",
    "(iterate 2 1 0 5)"
   ]
  },
  {
   "cell_type": "markdown",
   "metadata": {},
   "source": [
    "our initial `a b c` arguments will never change, so let's not fuss about those. we can put them behind another layer of abstraction, and add a conditional that will handle `x < 3`, since our `iterate` function was built to handle cases where `x > 3`. Here's how it looks:"
   ]
  },
  {
   "cell_type": "code",
   "execution_count": 43,
   "metadata": {},
   "outputs": [
    {
     "data": {
      "text/plain": [
       "f"
      ]
     },
     "execution_count": 43,
     "metadata": {},
     "output_type": "execute_result"
    }
   ],
   "source": [
    "(define (f x)\n",
    "  (define (iterate a b c n)\n",
    "        (if (< n 3) a\n",
    "        (iterate (+ a (* 2 b) (* 3 c)) a b (- n 1))))\n",
    "  (if (< x 3 x)\n",
    "      (iterate 2 1 0 x)))"
   ]
  },
  {
   "cell_type": "markdown",
   "metadata": {},
   "source": [
    "## 1.12 - pascal's triangle\n",
    "\n",
    "write a function to recursively generate elements of pascal's triangle"
   ]
  },
  {
   "cell_type": "code",
   "execution_count": 8,
   "metadata": {},
   "outputs": [
    {
     "data": {
      "text/plain": [
       "3"
      ]
     },
     "execution_count": 8,
     "metadata": {},
     "output_type": "execute_result"
    }
   ],
   "source": [
    "(define (pascal level item) \n",
    "  (if (and (= level 0) (= item 0))\n",
    "       1\n",
    "       (if (or (< item 0) (> item level))\n",
    "           0\n",
    "           (+ (pascal (- level 1) item) (pascal (- level 1) (- item 1))))))\n",
    "\n",
    "(pascal 3 2)"
   ]
  },
  {
   "cell_type": "markdown",
   "metadata": {},
   "source": [
    "## 1.13 - phi^n / sqrt(5)\n",
    "\n",
    "prove that fib(n) is the closest integer to phi^n/sqrt(5) where phi = (1 + sqrt(5))/2, fib(n) = (phi^n - psi^n)/sqrt(5), and psi = (1-sqrt(5))/2\n",
    "\n",
    "uhhh go check out [this](https://codology.net/post/sicp-solution-exercise-1-13/)\n"
   ]
  },
  {
   "cell_type": "markdown",
   "metadata": {},
   "source": [
    "## 1.14\n",
    "\n",
    "draw the tree for a recursive computation of the coin change problem (given n amount and an array of coin values, how many ways can we make change?)\n",
    "\n",
    "I'm not gonna draw this one, but here's how we think of the tree.\n",
    "\n",
    "each node has x children, where x is the number of denominations of coins remaining in the array. if we think of \"keeping\" coins as staying on the \"right\", the further \"left\" we go, the fewer coins remain in the array.\n",
    "\n",
    "i.e.\n",
    "\n",
    "`coin-change(100, [25, 10, 5, 1])`\n",
    "\n",
    "will have children that look something like this:  \n",
    "\n",
    "```\n",
    "coin-change(100, [])\n",
    "coin-change(100, [25]) \n",
    "coin-change(100, [25, 10]) \n",
    "coin-change(100, [25, 10, 5]) \n",
    "coin-change( 99, [25, 10, 5, 1])\n",
    "```\n",
    "\n",
    "I think that, as amounts are added, the order of change is something like ^(n of coins)"
   ]
  },
  {
   "cell_type": "markdown",
   "metadata": {},
   "source": [
    "## 1.15 - TODO"
   ]
  },
  {
   "cell_type": "markdown",
   "metadata": {},
   "source": [
    "## 1.16\n",
    "\n",
    "write a fast exponentiation function that is tail-recursive\n",
    "\n",
    "recursive version:\n",
    "\n",
    "```scheme\n",
    "(define (fast-expt b n)\n",
    "  (cond ((= n 0) 1)\n",
    "        ((even? n) (square (fast-expt b (/ n 2))))\n",
    "        (else (* b (fast-expt b (- n 1))))))\n",
    "\n",
    "(define (even? n)\n",
    "        (= (modulo n 2) 0))\n",
    "```"
   ]
  },
  {
   "cell_type": "code",
   "execution_count": null,
   "metadata": {
    "collapsed": true
   },
   "outputs": [],
   "source": [
    "(define (exp-iter a b x)\n",
    "        (cond ((= b 0) x)\n",
    "              (else (fast-expt a (-b 1) (* a a)))))\n",
    "\n",
    "(define (fast-exp (a b x)\n",
    "                  (cond ((= 0 a) x)\n",
    "                        (even? a) (fast-exp (/ a 2) (* b b) x)\n",
    "                        (else (fast-exp (- a 1) b (* b x))))\n",
    "                  \n",
    "(fast-exp a b 1)"
   ]
  },
  {
   "cell_type": "markdown",
   "metadata": {},
   "source": [
    "I didn't write that one, but we can at least break it down.\n",
    "\n",
    "every time we're doing exponentiation, we're figuring out how to get to the next step. Our third parameter, the `x` is used to store a running total of what our current value is at the current step, similar to a local variable.\n",
    "\n",
    "if I were to write it in python, it'd look something like this:\n",
    "\n",
    "```python\n",
    "def fast-exp(a, b):\n",
    "    result = 1\n",
    "    while b > 0:\n",
    "        if b%2 == 0:\n",
    "            b = b/2\n",
    "            result = result * result\n",
    "        else:\n",
    "            b = b - 1\n",
    "            result = result * b\n",
    "    return result\n",
    "```\n",
    "\n",
    "if we translate it into a specifically tail recursive form, we get the following:\n",
    "\n",
    "```python\n",
    "def fast-exp(a, b):\n",
    "    def iter(a, b, count):\n",
    "        if b < 1:\n",
    "            return count\n",
    "        elif b%2 == 0:\n",
    "            return iter(a, b/2, count*count)\n",
    "        else:\n",
    "            return iter(a, b-1, count*b)\n",
    "    return iter(a, b, 1)\n",
    "```\n",
    "\n"
   ]
  }
 ],
 "metadata": {
  "kernelspec": {
   "display_name": "MIT Scheme",
   "language": "scheme",
   "name": "mit-scheme"
  },
  "language_info": {
   "codemirror_mode": "scheme",
   "file_extension": ".scm",
   "mimetype": "application/x-scheme",
   "name": "MIT Scheme",
   "pygments_lexer": "scheme",
   "version": "9.2.1"
  }
 },
 "nbformat": 4,
 "nbformat_minor": 2
}
