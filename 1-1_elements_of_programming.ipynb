{
 "cells": [
  {
   "cell_type": "markdown",
   "metadata": {},
   "source": [
    "## 1.1\n",
    "what is the result printed by each expression below?\n",
    "\n",
    "`10`  \n",
    "10\n",
    "\n",
    "`(+ 5 3 4)`  \n",
    "12\n",
    "\n",
    "`(- 9 1)`  \n",
    "8\n",
    "\n",
    "`(/ 6 2)`  \n",
    "3\n",
    "\n",
    "`(+ (* 2 4) (- 4 6))`  \n",
    "8 + -2  \n",
    "6  \n",
    "\n",
    "`(define a 3)`  \n",
    "a (evaluates to 3)\n",
    "\n",
    "`(define b (+ a 1))`  \n",
    "b (evaluates to 4)\n",
    "\n",
    "`(+ a b (* a b))`  \n",
    "3 + 4 + (3 * 4)  \n",
    "7 + 12  \n",
    "19\n",
    "\n",
    "`(= a b)`  \n",
    "false (represented as `#f`)\n",
    "\n",
    "`(if (and (> b a) (<b (* a b)))\n",
    "    b\n",
    "    a)`\n",
    "\n",
    "(> b a) = ( > 4 3) = true  \n",
    "( * a b) = 12  \n",
    "(> 4 12) = false  \n",
    "(if (and true false) a b)  \n",
    "(if false a b)  \n",
    "b  \n",
    "4\n",
    "\n",
    "`(cond ((= a 4) 6)\n",
    "    ((= b 4) (+ 6 7 a))\n",
    "    (else 25))`\n",
    "note: a is 3, b is 4  \n",
    "(+ 6 7 a)  \n",
    "(+ 6 7 3)\n",
    "16\n",
    "\n",
    "`(+ 2 (if (> b a) b a ))`\n",
    "6\n",
    "\n",
    "`(* (cond ((> a b) a)\n",
    "        ((< a b) b)\n",
    "        (else -1))\n",
    "    (+ a 1))`  \n",
    "4 * a + 1  \n",
    "4 * 3 + 1  \n",
    "16"
   ]
  },
  {
   "cell_type": "markdown",
   "metadata": {},
   "source": [
    "## 1.2\n",
    "translate the following into prefix form:  \n",
    "(5 + 4 + (2 - (3 - (6 + 4/5)))) / (3(6-2)(2-7))  \n",
    "```mit-scheme\n",
    "(/ (+ 5 4\n",
    "      (- 2 (- 3 (+ 6 (/ 4 5)))))\n",
    "   (* 3 (- 6 2) (- 2 7)))\n",
    "```"
   ]
  },
  {
   "cell_type": "code",
   "execution_count": 13,
   "metadata": {},
   "outputs": [
    {
     "data": {
      "text/plain": [
       "-37/150"
      ]
     },
     "execution_count": 13,
     "metadata": {},
     "output_type": "execute_result"
    }
   ],
   "source": [
    "(/ (+ 5 4\n",
    "      (- 2 (- 3 (+ 6 (/ 4 5)))))\n",
    "   (* 3 (- 6 2) (- 2 7)))\n"
   ]
  },
  {
   "cell_type": "markdown",
   "metadata": {},
   "source": [
    "## 1.3\n",
    "Define a procedure that takes 3 numbers as args and returns the sum of the squares of the two larger numbers"
   ]
  },
  {
   "cell_type": "code",
   "execution_count": 36,
   "metadata": {},
   "outputs": [
    {
     "data": {
      "text/plain": [
       "45"
      ]
     },
     "execution_count": 36,
     "metadata": {},
     "output_type": "execute_result"
    }
   ],
   "source": [
    "(define (sq a) (* a a))\n",
    "(display (sq 2))\n",
    "(define (sumsq a b) \n",
    "  (+ (sq a) (sq b)))\n",
    "(sumsq 6 3)\n",
    "(define (dostuff a b c)\n",
    "        (cond (and (< c b)(< c a)) (sumsq a b))\n",
    "        (cond (and (< b a)(< b c)) (sumsq a c))\n",
    "        (cond (and (< a b)(< a c)) (sumsq b c)))\n",
    "\n",
    "\n"
   ]
  },
  {
   "cell_type": "markdown",
   "metadata": {},
   "source": [
    "## 1.4\n",
    "functions are first class in lisp. knowing that, how does the following work?\n",
    "```\n",
    "(define (a-plus-abs-b a b)\n",
    "    ((if (> b 0) + -) a b))\n",
    "```\n",
    "the `if` evaluates to + if b > 0. Otherwise it evaluates to -. that operation is applied to `a` and `b`. thus if b is negative, one subtracts b, which is the same as adding |b|. the absolute value operation doesn't need to exist as its own step"
   ]
  },
  {
   "cell_type": "markdown",
   "metadata": {},
   "source": [
    "## 1.5\n",
    "you can test if your interpreter is using applicative order or normal-order evaluation using the following:\n",
    "```\n",
    "(define (p) (p))\n",
    "(define (test x y)\n",
    "    (if (= x 0)\n",
    "        0\n",
    "        y))\n",
    "(test 0 (p))\n",
    "```\n",
    "what happens in either case?\n",
    "normal-order is lazy; it doesn't evaluate stuff until the value is needed. If we're doing applicative order, i think it hangs because `p` is only defined in terms of itself and should recurse infinitely. Scheme is applicative-order\n",
    "\n",
    "since normal order is lazy, it doesn't need to actually check y until the `if` check fails, so it should kick out with a `0`"
   ]
  },
  {
   "cell_type": "markdown",
   "metadata": {},
   "source": [
    "## 1.6  \n",
    "why can't `if` just be done in terms of `cond`? let's look at the following implementation:\n",
    "\n",
    "```\n",
    "(define (new-if predicate then-clause else-clause)\n",
    "  (cond (predicate then-clause)\n",
    "        (else else-clause)))\n",
    "\n",
    "(define (sq-iter guess x)\n",
    "    (new-if (good-enough? guess x)\n",
    "            guess\n",
    "            (sq-iter (improve guess x)\n",
    "                     x)))\n",
    "```\n",
    "\n",
    "As it turns out, lazy evaluation is important! cond doesn't short circuit, so sq-iter gets called forever"
   ]
  },
  {
   "cell_type": "markdown",
   "metadata": {},
   "source": [
    "## 1.7\n",
    "why does our current sqrt function not work well for large and small numbers?\n",
    "* our `good-enough?` method won't work for `n` smaller than the threshold, since all `n` will fall in that threshold\n",
    "* for very large numbers, no `n` will fall in the threshold (at least not for a very very long time)"
   ]
  },
  {
   "cell_type": "code",
   "execution_count": 35,
   "metadata": {},
   "outputs": [
    {
     "data": {
      "text/plain": [
       ".31622776688213083"
      ]
     },
     "execution_count": 35,
     "metadata": {},
     "output_type": "execute_result"
    }
   ],
   "source": [
    "(define (good-enough? guess lastguess)\n",
    "  (< (/ ( abs(- guess lastguess)) guess)\n",
    "     0.001))\n",
    "\n",
    "(define (improve guess x)\n",
    "  (average guess (/ x guess)))\n",
    "\n",
    "(define (average x y)\n",
    "  (/ (+ x y) 2))\n",
    "\n",
    "(define (sq-root guess x lastguess)\n",
    "  (if (good-enough? guess lastguess)\n",
    "      guess\n",
    "      (sq-root(improve guess x)\n",
    "             x\n",
    "             guess)))\n",
    "  \n",
    "(sq-root 2 0.1 1)"
   ]
  },
  {
   "cell_type": "markdown",
   "metadata": {},
   "source": [
    "Notes on this solution:\n",
    "* v inexact. some of it may be from floating point math, plus it's only an approximation\n",
    "* how do we pick a better starting point?\n",
    "* where should state be stored? I'm using args rn, but it feels inelegant.."
   ]
  },
  {
   "cell_type": "markdown",
   "metadata": {},
   "source": [
    "## 1.8\n",
    "\n",
    "for y ~= x^(-1/3) (or at least a guess),  (x/(y^2) + 2y)/3 improves your guess for a cube root of x. do a cube root calculator"
   ]
  },
  {
   "cell_type": "code",
   "execution_count": 43,
   "metadata": {},
   "outputs": [
    {
     "data": {
      "text/plain": [
       "2.000000000012062"
      ]
     },
     "execution_count": 43,
     "metadata": {},
     "output_type": "execute_result"
    }
   ],
   "source": [
    "(define (improve guess target)\n",
    "  (/(+(/ target (sq guess)) \n",
    "      (* 2 guess))\n",
    "    3))\n",
    "\n",
    "(define (sq x)\n",
    "  (* x x))\n",
    "\n",
    "(define (cube-root guess target lastguess)\n",
    "  (if (good-enough? guess lastguess)\n",
    "      guess\n",
    "      (cube-root(improve guess target) target guess)))\n",
    "\n",
    "(cube-root 1.0 8 8)"
   ]
  },
  {
   "cell_type": "markdown",
   "metadata": {},
   "source": [
    "Notes:\n",
    "* a lot of this is generalizeable from the sqrt method!\n",
    "* the main sq-root method itself is actually a meta-strategy for estimation in general\n",
    "* we can estimate anything if we have \n",
    "    1. a starting point\n",
    "    2. a method for getting closer to that target\n",
    "    3. a definition for when we're close enough to the target\n",
    "\n",
    "In sqrt, our target was the value of the thing we're trying to find a sqrt for. Our method for getting closer was averaging `x` and `x/guess` to get the next `guess` value, and we used `good-enough?` to determine when we were close enough. All we have to do is provide our methods as args to the guesser, and we're good!"
   ]
  }
 ],
 "metadata": {
  "kernelspec": {
   "display_name": "MIT Scheme",
   "language": "scheme",
   "name": "mit-scheme"
  },
  "language_info": {
   "codemirror_mode": "scheme",
   "file_extension": ".scm",
   "mimetype": "application/x-scheme",
   "name": "MIT Scheme",
   "pygments_lexer": "scheme",
   "version": "9.2.1"
  }
 },
 "nbformat": 4,
 "nbformat_minor": 2
}
