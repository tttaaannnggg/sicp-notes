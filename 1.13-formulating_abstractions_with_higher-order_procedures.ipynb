{
 "cells": [
  {
   "cell_type": "markdown",
   "metadata": {},
   "source": [
    "Integrals!\n",
    "\n",
    "imagine we have a function f(x) = x+1\n",
    "```scheme\n",
    "(define (f x) (+ x 1))\n",
    "```\n",
    "what if we want to find the sum of every `f(x)` from 0 to 5? Well, we can create a function to compute it.\n",
    "\n",
    "```scheme\n",
    "(define (f x) (+ x 1))\n",
    "(define (sum-x-plus-one a b)\n",
    "    (define (iter a b total) (\n",
    "        (if (> a b) \n",
    "            total\n",
    "            (iter (+ a 1) b (+ total (f a)))\n",
    "    (iter a b 0))\n",
    "```\n",
    "\n",
    "we can start to generalize the process of summing- it's not tied to the function that we actually sum up, is it?\n",
    "\n",
    "```scheme\n",
    "(define (sigma func a b step)\n",
    "    (define (iter a b total)\n",
    "            (if (> a b) \n",
    "                total\n",
    "                (iter (step a) b (+ total (func a)))))\n",
    "     (iter a b 0)\n",
    "```\n",
    "\n",
    "this one will provide us with a "
   ]
  },
  {
   "cell_type": "markdown",
   "metadata": {},
   "source": [
    "## 1.29 - Simpson's Rule\n",
    "\n",
    "h/3[y0 + 4y1 + 2y2 ... + 2yn-2 + 4yn-1 + yn]  \n",
    "where h = (b-a)/n  \n",
    "and yk = f(a + k * h)  "
   ]
  },
  {
   "cell_type": "code",
   "execution_count": null,
   "metadata": {
    "collapsed": true
   },
   "outputs": [],
   "source": [
    "(define (simp f a b n)\n",
    "  (define (get-h a b n) \n",
    "    (/ (- b a) n))\n",
    "  (define (get-yk f a k h)\n",
    "    (f (+ a (* k h))))\n",
    "  (define (get-k-term i n k)\n",
    "    (* (get-yk f a i h) \n",
    "       (cond (or (= i 0) (= i n)) 1\n",
    "             (= (modulo i 2) 1) 4) \n",
    "       (else 2)))\n",
    "  (* (/ (get-h a b n) 3) \n",
    "     (sigma (lambda (i) (get-k-term i n k) ) a values b)))"
   ]
  }
 ],
 "metadata": {
  "kernelspec": {
   "display_name": "MIT Scheme",
   "language": "scheme",
   "name": "mit-scheme"
  },
  "language_info": {
   "codemirror_mode": "scheme",
   "file_extension": ".scm",
   "mimetype": "application/x-scheme",
   "name": "MIT Scheme",
   "pygments_lexer": "scheme",
   "version": "9.2.1"
  }
 },
 "nbformat": 4,
 "nbformat_minor": 2
}
